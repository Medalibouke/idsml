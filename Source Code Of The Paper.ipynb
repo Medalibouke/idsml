{
 "cells": [
  {
   "cell_type": "markdown",
   "id": "f9d61815",
   "metadata": {},
   "source": [
    "# E2IDS"
   ]
  },
  {
   "cell_type": "code",
   "execution_count": 24,
   "id": "36a9f8d0",
   "metadata": {},
   "outputs": [
    {
     "name": "stderr",
     "output_type": "stream",
     "text": [
      "Intel(R) Extension for Scikit-learn* enabled (https://github.com/intel/scikit-learn-intelex)\n"
     ]
    }
   ],
   "source": [
    "from sklearnex import patch_sklearn\n",
    "patch_sklearn()\n",
    "import time\n",
    "# import numpy for data cleaning and perparation\n",
    "import pandas as pd\n",
    "import numpy as np\n",
    "from sklearn.metrics import (roc_curve, auc, roc_auc_score, confusion_matrix)\n",
    "import itertools\n",
    "from sklearn.preprocessing import LabelEncoder,StandardScaler\n",
    "from sklearn.model_selection import train_test_split\n",
    "from sklearn.metrics import classification_report,precision_recall_fscore_support,accuracy_score\n",
    "from sklearn.tree import DecisionTreeClassifier,export_graphviz\n",
    "\n",
    "from collections import Counter\n",
    "from imblearn.under_sampling import RandomUnderSampler\n",
    "from imblearn.over_sampling import RandomOverSampler\n",
    "## for plotting\n",
    "import matplotlib.pyplot as plt\n",
    "import seaborn as sns\n",
    "from ITMO_FS.filters.univariate import gini_index\n",
    "#pd.options.display.float_format = \"{:,.3f}\".format\n"
   ]
  },
  {
   "cell_type": "code",
   "execution_count": 25,
   "id": "06055cb6",
   "metadata": {},
   "outputs": [],
   "source": [
    "# Data exploration and preprocessing\n",
    "# About the dataset :\n",
    "# The raw network packets of the UNSW-NB 15 dataset was created by the IXIA PerfectStorm tool in the \n",
    "# Cyber Range Lab of UNSW Canberra for generating a hybrid of real modern normal activities and synthetic contemporary attack \n",
    "# behaviours."
   ]
  },
  {
   "cell_type": "code",
   "execution_count": 26,
   "id": "f927ef7a",
   "metadata": {},
   "outputs": [],
   "source": [
    "# Importing the dataset \n",
    "data = pd.read_csv('UNSW_NB15/UNSW-NB15.csv',low_memory=False)"
   ]
  },
  {
   "cell_type": "code",
   "execution_count": 27,
   "id": "1ac8e0b9",
   "metadata": {},
   "outputs": [
    {
     "name": "stdout",
     "output_type": "stream",
     "text": [
      "<class 'pandas.core.frame.DataFrame'>\n",
      "RangeIndex: 2540047 entries, 0 to 2540046\n",
      "Data columns (total 42 columns):\n",
      " #   Column            Dtype  \n",
      "---  ------            -----  \n",
      " 0   proto             object \n",
      " 1   state             object \n",
      " 2   dur               float64\n",
      " 3   sbytes            int64  \n",
      " 4   dbytes            int64  \n",
      " 5   sttl              int64  \n",
      " 6   dttl              int64  \n",
      " 7   sloss             int64  \n",
      " 8   dloss             int64  \n",
      " 9   service           object \n",
      " 10  Sload             float64\n",
      " 11  Dload             float64\n",
      " 12  Spkts             int64  \n",
      " 13  Dpkts             int64  \n",
      " 14  swin              int64  \n",
      " 15  dwin              int64  \n",
      " 16  stcpb             int64  \n",
      " 17  dtcpb             int64  \n",
      " 18  smeansz           int64  \n",
      " 19  dmeansz           int64  \n",
      " 20  trans_depth       int64  \n",
      " 21  res_bdy_len       int64  \n",
      " 22  Sjit              float64\n",
      " 23  Djit              float64\n",
      " 24  Sintpkt           float64\n",
      " 25  Dintpkt           float64\n",
      " 26  tcprtt            float64\n",
      " 27  synack            float64\n",
      " 28  ackdat            float64\n",
      " 29  is_sm_ips_ports   int64  \n",
      " 30  ct_state_ttl      int64  \n",
      " 31  ct_flw_http_mthd  int64  \n",
      " 32  is_ftp_login      int64  \n",
      " 33  ct_ftp_cmd        int64  \n",
      " 34  ct_srv_src        int64  \n",
      " 35  ct_srv_dst        int64  \n",
      " 36  ct_dst_ltm        int64  \n",
      " 37  ct_src_ ltm       int64  \n",
      " 38  ct_src_dport_ltm  int64  \n",
      " 39  ct_dst_sport_ltm  int64  \n",
      " 40  ct_dst_src_ltm    int64  \n",
      " 41  label             int64  \n",
      "dtypes: float64(10), int64(29), object(3)\n",
      "memory usage: 813.9+ MB\n"
     ]
    }
   ],
   "source": [
    "data.info()"
   ]
  },
  {
   "cell_type": "code",
   "execution_count": 30,
   "id": "d022a7b0",
   "metadata": {},
   "outputs": [],
   "source": [
    "# Making a copy of the data to keep it save\n",
    "data_copy = data"
   ]
  },
  {
   "cell_type": "code",
   "execution_count": 31,
   "id": "cda0902c",
   "metadata": {},
   "outputs": [],
   "source": [
    "\n",
    "threshold = 0\n",
    "def chekMissingVal(dataSet):\n",
    "    colsIsEmpty = dataSet.isnull().sum()\n",
    "    colsIsEmpty = colsIsEmpty.to_frame(name=\"Features & Missing Values\")\n",
    "    print(colsIsEmpty)\n",
    "\n",
    "# Function to drop unnecessary attributes\n",
    "\n",
    "def dropCols(dataSet,cols):\n",
    "    dataSet.drop(cols,axis='columns',inplace=True)\n",
    "\n",
    "\n",
    "# A function to check the balance of the data\n",
    "\n",
    "def isBalanced(target,dataSet,X):\n",
    "    counter = Counter(target)\n",
    "    print(\"The dataset contains {} records of class Normal which means {} %\".format(counter[0],np.round((counter[0]/(counter[0] + counter[1]))*100,2)))\n",
    "    print(\"The dataset contains {} records of class Attack which means {} %\".format(counter[1],np.round((counter[1]/(counter[0]+counter[1]))*100,2)))\n",
    "    print(f\"The old dataset size  {data.shape[0]:,} and The resampled dataset size is {X.shape[0]:,}\")\n",
    "    plt.barh(['Normal','Attack'],[counter[0],counter[1]],color=[(0.02, 0.60, 0.38),(0.91, 0.12, 0.39)])\n",
    "\n",
    "# A function to display the model performance with diffrent metrics\n",
    "def model_report(y_test, y_pred):\n",
    "    from sklearn import metrics\n",
    "    report = metrics.classification_report(y_test, y_pred, output_dict=True)\n",
    "    df_classification_report = pd.DataFrame(report).transpose()\n",
    "    df_classification_report = df_classification_report\n",
    "    df_classification_report['precision'] = round(df_classification_report['precision'],3)*100\n",
    "    df_classification_report['recall'] = round(df_classification_report['recall'],3)*100\n",
    "    df_classification_report['f1-score'] = round(df_classification_report['f1-score'],3)*100\n",
    "    df_classification_report['support'] = round(df_classification_report['support'],0)\n",
    "    #print(df_classification_report['precision']['accuracy'])\n",
    "    \n",
    "    return df_classification_report\n",
    "# Gather feature importance\n",
    "\n",
    "def getImportance(features_names,importance):\n",
    "    importances = pd.DataFrame({'feature':features_names,'importance':np.round(importance,3)})\n",
    "    importances = importances.sort_values('importance',ascending=False)\n",
    "    return importances\n",
    "\n",
    "\n",
    "def pltImportances(importance):\n",
    "    plt.xlabel(\"Gini Score\")\n",
    "    plt.ylabel(\"Security Features\")\n",
    "    plt.title(\"Features Gini Scores\")\n",
    "    plt.barh(importances['feature'],importances['importance'])\n",
    "    \n",
    "def giniScore(X,Y):\n",
    "    Y_ = np.array(Y)\n",
    "    importance = gini_index(X, Y_)\n",
    "    return importance\n",
    "\n",
    "def selectFeatures(X,importances,threshold):\n",
    "    X_selected = X\n",
    "    c = X.columns\n",
    "    i=0\n",
    "    count_sel_f=0\n",
    "    toBeDroped = []\n",
    "    Feautre  =  []\n",
    "    Ranking   = []\n",
    "    for cs in c:\n",
    "    \n",
    "        if  importances['importance'][i]<=threshold:\n",
    "            count_sel_f=count_sel_f+1\n",
    "            Feautre.append(cs)\n",
    "            Ranking.append(importances['importance'][i])\n",
    "        else:\n",
    "            toBeDroped.append(cs)\n",
    "        i=i+1\n",
    "    X_selected = X.drop(toBeDroped,axis='columns')\n",
    "    print(\"the Number of selected features is : \",count_sel_f)\n",
    "    return [X_selected,Feautre,Ranking]\n",
    "    #X = X.drop(toBeDroped,axis='columns',inplace=True)\n",
    "\n",
    "def plotTreeGraph(DT_clf,X):\n",
    "    graph = Source(export_graphviz(DT_clf, out_file=None, feature_names=X.columns))\n",
    "    graph.format = 'png'\n",
    "    graph.render('dt', view=True);\n",
    "\n",
    "\n",
    "\n",
    "def plot_roc_curve(y_test, y_test_score):\n",
    " \n",
    "    fpr, tpr, _ = roc_curve(y_test, y_test_score)\n",
    "    roc_auc = auc(fpr, tpr)\n",
    "    plt.figure()\n",
    "    plt.plot(fpr, tpr, label='ROC curve (area = %0.2f)' % roc_auc)\n",
    "    plt.plot([0, 1], [0, 1], 'k')\n",
    "    plt.xlim([0.0, 1.0])\n",
    "    plt.ylim([0.0, 1.05])\n",
    "    plt.xlabel('False Positive Rate')\n",
    "    plt.ylabel('True Positive Rate')\n",
    "    #plt.title('Receiver operating characteristic')\n",
    "    plt.legend(loc='lower right')\n",
    "    plt.show()\n",
    "\n",
    "\n",
    "def show_cm(y_true, y_pred, class_names=None, model_name=None):\n",
    " \n",
    "    cf = confusion_matrix(y_true, y_pred)\n",
    "    plt.imshow(cf, cmap=plt.cm.Blues)\n",
    "    if model_name:\n",
    "        plt.title('Confusion Matrix: {}'.format(model_name))\n",
    "    else:\n",
    "        plt.title('Confusion Matrix')\n",
    "        plt.ylabel('True Label')\n",
    "        plt.xlabel('Predicted Label')\n",
    "    if class_names:\n",
    "        tick_marks = np.arange(len(class_names))\n",
    "        plt.xticks(tick_marks, class_names)\n",
    "        plt.yticks(tick_marks, class_names)\n",
    "    else:\n",
    "        class_names = set(y_true)\n",
    "        tick_marks = np.arange(len(class_names))\n",
    "        plt.xticks(tick_marks, class_names)\n",
    "        plt.yticks(tick_marks, class_names)\n",
    "    thresh = cf.max() / 2.0\n",
    "    for i, j in itertools.product(range(cf.shape[0]),\n",
    "                               range(cf.shape[1])):\n",
    "        plt.text(j, i, cf[i, j],\n",
    "            horizontalalignment='center',\n",
    "            color='white' if cf[i, j] > thresh else 'black',\n",
    "            )\n",
    "    plt.colorbar()"
   ]
  },
  {
   "cell_type": "code",
   "execution_count": null,
   "id": "7cda7761",
   "metadata": {},
   "outputs": [],
   "source": []
  },
  {
   "cell_type": "code",
   "execution_count": null,
   "id": "3e889ffd",
   "metadata": {},
   "outputs": [],
   "source": []
  },
  {
   "cell_type": "code",
   "execution_count": 32,
   "id": "e41436f9",
   "metadata": {},
   "outputs": [],
   "source": [
    "# Saving target classes\n",
    "target = data_copy['label']"
   ]
  },
  {
   "cell_type": "code",
   "execution_count": 33,
   "id": "39703280",
   "metadata": {},
   "outputs": [],
   "source": [
    "# Drop unnecessary attributes\n",
    "#cols to drop\n",
    "cols = ['label']\n",
    "dropCols(data_copy,cols)"
   ]
  },
  {
   "cell_type": "code",
   "execution_count": 34,
   "id": "88d1d2d2",
   "metadata": {},
   "outputs": [
    {
     "name": "stdout",
     "output_type": "stream",
     "text": [
      "The dataset contains 2218764 records of class Normal which means 87.35 %\n",
      "The dataset contains 321283 records of class Attack which means 12.65 %\n",
      "The old dataset size  2,540,047 and The resampled dataset size is 2,540,047\n"
     ]
    },
    {
     "data": {
      "image/png": "[encoded data removed]",
      "text/plain": [
       "<Figure size 576x360 with 1 Axes>"
      ]
     },
     "metadata": {
      "needs_background": "light"
     },
     "output_type": "display_data"
    }
   ],
   "source": [
    "# Is our data Balanced ?\n",
    "isBalanced(target,data_copy,X=data_copy)"
   ]
  },
  {
   "cell_type": "code",
   "execution_count": 35,
   "id": "ea268c2d",
   "metadata": {},
   "outputs": [],
   "source": [
    "X,Y = data_copy,target"
   ]
  },
  {
   "cell_type": "code",
   "execution_count": 36,
   "id": "59b2f2b1",
   "metadata": {},
   "outputs": [
    {
     "name": "stdout",
     "output_type": "stream",
     "text": [
      "The dataset contains 535471 records of class Normal which means 62.5 %\n",
      "The dataset contains 321283 records of class Attack which means 37.5 %\n",
      "The old dataset size  2,540,047 and The resampled dataset size is 856,754\n"
     ]
    },
    {
     "data": {
      "image/png": "[encoded data removed]",
      "text/plain": [
       "<Figure size 576x360 with 1 Axes>"
      ]
     },
     "metadata": {
      "needs_background": "light"
     },
     "output_type": "display_data"
    }
   ],
   "source": [
    "# define oversampling strategy\n",
    "RUS = RandomUnderSampler(sampling_strategy=0.6)\n",
    "X,Y = RUS.fit_resample(data_copy, target)\n",
    "isBalanced(Y,X,X)"
   ]
  },
  {
   "cell_type": "code",
   "execution_count": 37,
   "id": "eceaa169",
   "metadata": {},
   "outputs": [],
   "source": [
    "# The dataset contain three nominal variabls [proto,service,state]\n",
    "proto   = LabelEncoder()\n",
    "service = LabelEncoder()\n",
    "state   = LabelEncoder()\n",
    "\n",
    "X['proto'] = proto.fit_transform(X['proto'])\n",
    "X['service']=service.fit_transform(X['service'])\n",
    "X['state']=state.fit_transform(X['state'])\n"
   ]
  },
  {
   "cell_type": "code",
   "execution_count": null,
   "id": "c7d3fcc6",
   "metadata": {},
   "outputs": [],
   "source": []
  },
  {
   "cell_type": "code",
   "execution_count": null,
   "id": "71c0a397",
   "metadata": {},
   "outputs": [],
   "source": []
  },
  {
   "cell_type": "code",
   "execution_count": 38,
   "id": "9f524bfd",
   "metadata": {},
   "outputs": [
    {
     "data": {
      "text/html": [
       "<div>\n",
       "<style scoped>\n",
       "    .dataframe tbody tr th:only-of-type {\n",
       "        vertical-align: middle;\n",
       "    }\n",
       "\n",
       "    .dataframe tbody tr th {\n",
       "        vertical-align: top;\n",
       "    }\n",
       "\n",
       "    .dataframe thead th {\n",
       "        text-align: right;\n",
       "    }\n",
       "</style>\n",
       "<table border=\"1\" class=\"dataframe\">\n",
       "  <thead>\n",
       "    <tr style=\"text-align: right;\">\n",
       "      <th></th>\n",
       "      <th>feature</th>\n",
       "      <th>importance</th>\n",
       "    </tr>\n",
       "  </thead>\n",
       "  <tbody>\n",
       "    <tr>\n",
       "      <th>29</th>\n",
       "      <td>is_sm_ips_ports</td>\n",
       "      <td>1.000</td>\n",
       "    </tr>\n",
       "    <tr>\n",
       "      <th>11</th>\n",
       "      <td>Dload</td>\n",
       "      <td>0.998</td>\n",
       "    </tr>\n",
       "    <tr>\n",
       "      <th>4</th>\n",
       "      <td>dbytes</td>\n",
       "      <td>0.947</td>\n",
       "    </tr>\n",
       "    <tr>\n",
       "      <th>8</th>\n",
       "      <td>dloss</td>\n",
       "      <td>0.945</td>\n",
       "    </tr>\n",
       "    <tr>\n",
       "      <th>19</th>\n",
       "      <td>dmeansz</td>\n",
       "      <td>0.943</td>\n",
       "    </tr>\n",
       "    <tr>\n",
       "      <th>13</th>\n",
       "      <td>Dpkts</td>\n",
       "      <td>0.942</td>\n",
       "    </tr>\n",
       "    <tr>\n",
       "      <th>21</th>\n",
       "      <td>res_bdy_len</td>\n",
       "      <td>0.900</td>\n",
       "    </tr>\n",
       "    <tr>\n",
       "      <th>12</th>\n",
       "      <td>Spkts</td>\n",
       "      <td>0.882</td>\n",
       "    </tr>\n",
       "    <tr>\n",
       "      <th>24</th>\n",
       "      <td>Sintpkt</td>\n",
       "      <td>0.877</td>\n",
       "    </tr>\n",
       "    <tr>\n",
       "      <th>14</th>\n",
       "      <td>swin</td>\n",
       "      <td>0.876</td>\n",
       "    </tr>\n",
       "    <tr>\n",
       "      <th>17</th>\n",
       "      <td>dtcpb</td>\n",
       "      <td>0.875</td>\n",
       "    </tr>\n",
       "    <tr>\n",
       "      <th>16</th>\n",
       "      <td>stcpb</td>\n",
       "      <td>0.875</td>\n",
       "    </tr>\n",
       "    <tr>\n",
       "      <th>15</th>\n",
       "      <td>dwin</td>\n",
       "      <td>0.875</td>\n",
       "    </tr>\n",
       "    <tr>\n",
       "      <th>23</th>\n",
       "      <td>Djit</td>\n",
       "      <td>0.868</td>\n",
       "    </tr>\n",
       "    <tr>\n",
       "      <th>33</th>\n",
       "      <td>ct_ftp_cmd</td>\n",
       "      <td>0.857</td>\n",
       "    </tr>\n",
       "    <tr>\n",
       "      <th>32</th>\n",
       "      <td>is_ftp_login</td>\n",
       "      <td>0.834</td>\n",
       "    </tr>\n",
       "    <tr>\n",
       "      <th>25</th>\n",
       "      <td>Dintpkt</td>\n",
       "      <td>0.831</td>\n",
       "    </tr>\n",
       "    <tr>\n",
       "      <th>7</th>\n",
       "      <td>sloss</td>\n",
       "      <td>0.808</td>\n",
       "    </tr>\n",
       "    <tr>\n",
       "      <th>31</th>\n",
       "      <td>ct_flw_http_mthd</td>\n",
       "      <td>0.738</td>\n",
       "    </tr>\n",
       "    <tr>\n",
       "      <th>20</th>\n",
       "      <td>trans_depth</td>\n",
       "      <td>0.730</td>\n",
       "    </tr>\n",
       "    <tr>\n",
       "      <th>18</th>\n",
       "      <td>smeansz</td>\n",
       "      <td>0.700</td>\n",
       "    </tr>\n",
       "    <tr>\n",
       "      <th>0</th>\n",
       "      <td>proto</td>\n",
       "      <td>0.623</td>\n",
       "    </tr>\n",
       "    <tr>\n",
       "      <th>9</th>\n",
       "      <td>service</td>\n",
       "      <td>0.607</td>\n",
       "    </tr>\n",
       "    <tr>\n",
       "      <th>3</th>\n",
       "      <td>sbytes</td>\n",
       "      <td>0.592</td>\n",
       "    </tr>\n",
       "    <tr>\n",
       "      <th>22</th>\n",
       "      <td>Sjit</td>\n",
       "      <td>0.590</td>\n",
       "    </tr>\n",
       "    <tr>\n",
       "      <th>2</th>\n",
       "      <td>dur</td>\n",
       "      <td>0.590</td>\n",
       "    </tr>\n",
       "    <tr>\n",
       "      <th>6</th>\n",
       "      <td>dttl</td>\n",
       "      <td>0.574</td>\n",
       "    </tr>\n",
       "    <tr>\n",
       "      <th>1</th>\n",
       "      <td>state</td>\n",
       "      <td>0.554</td>\n",
       "    </tr>\n",
       "    <tr>\n",
       "      <th>37</th>\n",
       "      <td>ct_src_ ltm</td>\n",
       "      <td>0.339</td>\n",
       "    </tr>\n",
       "    <tr>\n",
       "      <th>34</th>\n",
       "      <td>ct_srv_src</td>\n",
       "      <td>0.334</td>\n",
       "    </tr>\n",
       "    <tr>\n",
       "      <th>35</th>\n",
       "      <td>ct_srv_dst</td>\n",
       "      <td>0.325</td>\n",
       "    </tr>\n",
       "    <tr>\n",
       "      <th>10</th>\n",
       "      <td>Sload</td>\n",
       "      <td>0.322</td>\n",
       "    </tr>\n",
       "    <tr>\n",
       "      <th>36</th>\n",
       "      <td>ct_dst_ltm</td>\n",
       "      <td>0.317</td>\n",
       "    </tr>\n",
       "    <tr>\n",
       "      <th>27</th>\n",
       "      <td>synack</td>\n",
       "      <td>0.309</td>\n",
       "    </tr>\n",
       "    <tr>\n",
       "      <th>26</th>\n",
       "      <td>tcprtt</td>\n",
       "      <td>0.291</td>\n",
       "    </tr>\n",
       "    <tr>\n",
       "      <th>28</th>\n",
       "      <td>ackdat</td>\n",
       "      <td>0.272</td>\n",
       "    </tr>\n",
       "    <tr>\n",
       "      <th>40</th>\n",
       "      <td>ct_dst_src_ltm</td>\n",
       "      <td>0.209</td>\n",
       "    </tr>\n",
       "    <tr>\n",
       "      <th>5</th>\n",
       "      <td>sttl</td>\n",
       "      <td>0.199</td>\n",
       "    </tr>\n",
       "    <tr>\n",
       "      <th>38</th>\n",
       "      <td>ct_src_dport_ltm</td>\n",
       "      <td>0.184</td>\n",
       "    </tr>\n",
       "    <tr>\n",
       "      <th>39</th>\n",
       "      <td>ct_dst_sport_ltm</td>\n",
       "      <td>0.158</td>\n",
       "    </tr>\n",
       "    <tr>\n",
       "      <th>30</th>\n",
       "      <td>ct_state_ttl</td>\n",
       "      <td>0.016</td>\n",
       "    </tr>\n",
       "  </tbody>\n",
       "</table>\n",
       "</div>"
      ],
      "text/plain": [
       "             feature  importance\n",
       "29   is_sm_ips_ports       1.000\n",
       "11             Dload       0.998\n",
       "4             dbytes       0.947\n",
       "8              dloss       0.945\n",
       "19           dmeansz       0.943\n",
       "13             Dpkts       0.942\n",
       "21       res_bdy_len       0.900\n",
       "12             Spkts       0.882\n",
       "24           Sintpkt       0.877\n",
       "14              swin       0.876\n",
       "17             dtcpb       0.875\n",
       "16             stcpb       0.875\n",
       "15              dwin       0.875\n",
       "23              Djit       0.868\n",
       "33        ct_ftp_cmd       0.857\n",
       "32      is_ftp_login       0.834\n",
       "25           Dintpkt       0.831\n",
       "7              sloss       0.808\n",
       "31  ct_flw_http_mthd       0.738\n",
       "20       trans_depth       0.730\n",
       "18           smeansz       0.700\n",
       "0              proto       0.623\n",
       "9            service       0.607\n",
       "3             sbytes       0.592\n",
       "22              Sjit       0.590\n",
       "2                dur       0.590\n",
       "6               dttl       0.574\n",
       "1              state       0.554\n",
       "37       ct_src_ ltm       0.339\n",
       "34        ct_srv_src       0.334\n",
       "35        ct_srv_dst       0.325\n",
       "10             Sload       0.322\n",
       "36        ct_dst_ltm       0.317\n",
       "27            synack       0.309\n",
       "26            tcprtt       0.291\n",
       "28            ackdat       0.272\n",
       "40    ct_dst_src_ltm       0.209\n",
       "5               sttl       0.199\n",
       "38  ct_src_dport_ltm       0.184\n",
       "39  ct_dst_sport_ltm       0.158\n",
       "30      ct_state_ttl       0.016"
      ]
     },
     "execution_count": 38,
     "metadata": {},
     "output_type": "execute_result"
    }
   ],
   "source": [
    "# Calacuting Gini impurity for all features using ITMO_FS Library\n",
    "from ITMO_FS.filters.univariate import gini_index\n",
    "x=X.to_numpy()\n",
    "y=Y.to_numpy()\n",
    "importances=getImportance(X.columns,gini_index(x, y))\n",
    "importances_=importances\n",
    "importances"
   ]
  },
  {
   "cell_type": "code",
   "execution_count": 39,
   "id": "81db12a1",
   "metadata": {},
   "outputs": [
    {
     "name": "stdout",
     "output_type": "stream",
     "text": [
      "the Number of selected features is :  11\n",
      "<class 'pandas.core.frame.DataFrame'>\n",
      "RangeIndex: 856754 entries, 0 to 856753\n",
      "Data columns (total 11 columns):\n",
      " #   Column            Non-Null Count   Dtype  \n",
      "---  ------            --------------   -----  \n",
      " 0   sttl              856754 non-null  int64  \n",
      " 1   Sload             856754 non-null  float64\n",
      " 2   tcprtt            856754 non-null  float64\n",
      " 3   synack            856754 non-null  float64\n",
      " 4   ackdat            856754 non-null  float64\n",
      " 5   ct_state_ttl      856754 non-null  int64  \n",
      " 6   ct_srv_dst        856754 non-null  int64  \n",
      " 7   ct_dst_ltm        856754 non-null  int64  \n",
      " 8   ct_src_dport_ltm  856754 non-null  int64  \n",
      " 9   ct_dst_sport_ltm  856754 non-null  int64  \n",
      " 10  ct_dst_src_ltm    856754 non-null  int64  \n",
      "dtypes: float64(4), int64(7)\n",
      "memory usage: 71.9 MB\n"
     ]
    }
   ],
   "source": [
    "# Selection Top featues based on the threshold 0.33\n",
    "threshold = 0.33\n",
    "X_selected = selectFeatures(X,importances_,threshold)\n",
    "X_selected[0].info()"
   ]
  },
  {
   "cell_type": "code",
   "execution_count": 40,
   "id": "903b4584",
   "metadata": {},
   "outputs": [],
   "source": [
    "X_selected_=X_selected[0]"
   ]
  },
  {
   "cell_type": "code",
   "execution_count": 41,
   "id": "23c8f196",
   "metadata": {},
   "outputs": [],
   "source": [
    "X_selected_ = StandardScaler().fit_transform(X_selected_)\n",
    "X_train, X_test, Y_train, Y_test = train_test_split(X_selected_, Y,test_size = 0.3)"
   ]
  },
  {
   "cell_type": "code",
   "execution_count": null,
   "id": "3ba22724",
   "metadata": {},
   "outputs": [],
   "source": []
  },
  {
   "cell_type": "code",
   "execution_count": 42,
   "id": "5d07b958",
   "metadata": {},
   "outputs": [],
   "source": [
    "importances=getImportance(X_selected[0].columns,X_selected[2])"
   ]
  },
  {
   "cell_type": "code",
   "execution_count": 43,
   "id": "ec70935f",
   "metadata": {},
   "outputs": [
    {
     "data": {
      "image/png": "[encoded data removed]",
      "text/plain": [
       "<Figure size 576x360 with 1 Axes>"
      ]
     },
     "metadata": {
      "needs_background": "light"
     },
     "output_type": "display_data"
    }
   ],
   "source": [
    "plt.rcParams['figure.figsize'] = [8, 5]\n",
    "pltImportances(importances)"
   ]
  },
  {
   "cell_type": "code",
   "execution_count": 44,
   "id": "82f87232",
   "metadata": {},
   "outputs": [
    {
     "name": "stdout",
     "output_type": "stream",
     "text": [
      "The dataset contains 375048 records of class Normal which means 54.05 %\n",
      "The dataset contains 318790 records of class Attack which means 45.95 %\n",
      "The old dataset size  2,540,047 and The resampled dataset size is 693,838\n"
     ]
    },
    {
     "data": {
      "image/png": "[encoded data removed]",
      "text/plain": [
       "<Figure size 576x360 with 1 Axes>"
      ]
     },
     "metadata": {
      "needs_background": "light"
     },
     "output_type": "display_data"
    }
   ],
   "source": [
    "#define oversampling strategy (Only For the Training Set)\n",
    "RUS = RandomOverSampler(sampling_strategy=0.85)\n",
    "X_train,Y_train = RUS.fit_resample(X_train,Y_train)\n",
    "\n",
    "#Is our data Balanced ?\n",
    "isBalanced(Y_train,X_train,X_train)"
   ]
  },
  {
   "cell_type": "code",
   "execution_count": 45,
   "id": "31dce328",
   "metadata": {},
   "outputs": [
    {
     "name": "stdout",
     "output_type": "stream",
     "text": [
      "Accuracy: 98.7\n"
     ]
    },
    {
     "data": {
      "text/html": [
       "<div>\n",
       "<style scoped>\n",
       "    .dataframe tbody tr th:only-of-type {\n",
       "        vertical-align: middle;\n",
       "    }\n",
       "\n",
       "    .dataframe tbody tr th {\n",
       "        vertical-align: top;\n",
       "    }\n",
       "\n",
       "    .dataframe thead th {\n",
       "        text-align: right;\n",
       "    }\n",
       "</style>\n",
       "<table border=\"1\" class=\"dataframe\">\n",
       "  <thead>\n",
       "    <tr style=\"text-align: right;\">\n",
       "      <th></th>\n",
       "      <th>precision</th>\n",
       "      <th>recall</th>\n",
       "      <th>f1-score</th>\n",
       "      <th>support</th>\n",
       "    </tr>\n",
       "  </thead>\n",
       "  <tbody>\n",
       "    <tr>\n",
       "      <th>0</th>\n",
       "      <td>99.0</td>\n",
       "      <td>99.0</td>\n",
       "      <td>99.0</td>\n",
       "      <td>160526.0</td>\n",
       "    </tr>\n",
       "    <tr>\n",
       "      <th>1</th>\n",
       "      <td>98.3</td>\n",
       "      <td>98.4</td>\n",
       "      <td>98.3</td>\n",
       "      <td>96501.0</td>\n",
       "    </tr>\n",
       "    <tr>\n",
       "      <th>accuracy</th>\n",
       "      <td>98.7</td>\n",
       "      <td>98.7</td>\n",
       "      <td>98.7</td>\n",
       "      <td>1.0</td>\n",
       "    </tr>\n",
       "    <tr>\n",
       "      <th>macro avg</th>\n",
       "      <td>98.6</td>\n",
       "      <td>98.7</td>\n",
       "      <td>98.6</td>\n",
       "      <td>257027.0</td>\n",
       "    </tr>\n",
       "    <tr>\n",
       "      <th>weighted avg</th>\n",
       "      <td>98.7</td>\n",
       "      <td>98.7</td>\n",
       "      <td>98.7</td>\n",
       "      <td>257027.0</td>\n",
       "    </tr>\n",
       "  </tbody>\n",
       "</table>\n",
       "</div>"
      ],
      "text/plain": [
       "              precision  recall  f1-score   support\n",
       "0                  99.0    99.0      99.0  160526.0\n",
       "1                  98.3    98.4      98.3   96501.0\n",
       "accuracy           98.7    98.7      98.7       1.0\n",
       "macro avg          98.6    98.7      98.6  257027.0\n",
       "weighted avg       98.7    98.7      98.7  257027.0"
      ]
     },
     "execution_count": 45,
     "metadata": {},
     "output_type": "execute_result"
    }
   ],
   "source": [
    "# fit the model with data\n",
    "DT_clf_enhanced = DecisionTreeClassifier().fit(X_train,Y_train)\n",
    "#fit the model with the testing data\n",
    "prd = DT_clf_enhanced.predict(X_test)\n",
    "\n",
    "\n",
    "# Generating the model report\n",
    "report = model_report(prd,Y_test)\n",
    "acc= round(accuracy_score(Y_test, prd),3)*100\n",
    "# Model Accuracy, how often is the classifier correct?\n",
    "print(\"Accuracy:\",acc)\n",
    "report"
   ]
  },
  {
   "cell_type": "code",
   "execution_count": 46,
   "id": "0bccc996",
   "metadata": {},
   "outputs": [
    {
     "data": {
      "image/png": "[encoded data removed]",
      "text/plain": [
       "<Figure size 576x360 with 1 Axes>"
      ]
     },
     "metadata": {
      "needs_background": "light"
     },
     "output_type": "display_data"
    }
   ],
   "source": [
    "#plotTreeGraph(DT_clf_enhanced,X_selected)\n",
    "plot_roc_curve(Y_test, prd)"
   ]
  },
  {
   "cell_type": "code",
   "execution_count": 47,
   "id": "d1719b93",
   "metadata": {},
   "outputs": [
    {
     "data": {
      "image/png": "[encoded data removed]",
      "text/plain": [
       "<Figure size 576x360 with 2 Axes>"
      ]
     },
     "metadata": {
      "needs_background": "light"
     },
     "output_type": "display_data"
    }
   ],
   "source": [
    "show_cm(Y_test, prd, class_names=[\"Normal\",\"Attack\"], model_name='DT Enhanced')"
   ]
  },
  {
   "cell_type": "code",
   "execution_count": null,
   "id": "8ff9ecb1",
   "metadata": {},
   "outputs": [],
   "source": []
  },
  {
   "cell_type": "code",
   "execution_count": null,
   "id": "26ae056a",
   "metadata": {},
   "outputs": [],
   "source": []
  },
  {
   "cell_type": "code",
   "execution_count": null,
   "id": "38266aff",
   "metadata": {},
   "outputs": [],
   "source": []
  }
 ],
 "metadata": {
  "kernelspec": {
   "display_name": "Python 3 (ipykernel)",
   "language": "python",
   "name": "python3"
  },
  "language_info": {
   "codemirror_mode": {
    "name": "ipython",
    "version": 3
   },
   "file_extension": ".py",
   "mimetype": "text/x-python",
   "name": "python",
   "nbconvert_exporter": "python",
   "pygments_lexer": "ipython3",
   "version": "3.8.11"
  }
 },
 "nbformat": 4,
 "nbformat_minor": 5
}
